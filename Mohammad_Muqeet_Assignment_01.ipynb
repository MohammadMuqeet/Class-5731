{
  "cells": [
    {
      "cell_type": "markdown",
      "metadata": {
        "id": "view-in-github"
      },
      "source": [
        "<a href=\"https://colab.research.google.com/github/unt-iialab/INFO5731_Spring2020/blob/master/Assignments/INFO5731_Assignment_One.ipynb\" target=\"_parent\"><img src=\"https://colab.research.google.com/assets/colab-badge.svg\" alt=\"Open In Colab\"/></a>"
      ]
    },
    {
      "cell_type": "markdown",
      "metadata": {
        "id": "Ryk8D1Q4Wsrp"
      },
      "source": [
        "# **INFO5731 Assignment One**"
      ]
    },
    {
      "cell_type": "markdown",
      "source": [
        "This assignment includes range of programming tasks and data analysis exercises, aiming to enhance your Python skills and proficiency in string manipulation, numerical computations, and data science. Follow the instructions carefully and design well-structured Python programs to address each question.\n",
        "\n",
        "Late Submission will have a penalty of 10% reduction for each day after the deadline."
      ],
      "metadata": {
        "id": "qcP6re2g5A5r"
      }
    },
    {
      "cell_type": "markdown",
      "metadata": {
        "id": "JkzR8cFAyGik"
      },
      "source": [
        "# Question 1 (10 points).\n",
        "\n",
        "The formula that describes the volume V of a hemisphere with radius r is the following:\n",
        "\n",
        "$ V=\\frac{2}{3}\\ast\\ \\pi\\ast\\ r^3 $\n",
        "\n",
        "Write a program to calculate the value of V when r is in the range of even numbers from 1-20. Output the result in the following format:\n",
        "\n",
        "\tr\tV\n",
        "\t2\t…\n",
        "\t4\t…\n",
        "\t6\t…\n",
        "\t.\n",
        "\t.\n",
        "\t.\n",
        "\t20\t…\n"
      ]
    },
    {
      "cell_type": "code",
      "execution_count": 1,
      "metadata": {
        "id": "jDyTKYs-yGit",
        "colab": {
          "base_uri": "https://localhost:8080/"
        },
        "outputId": "b68b8457-c1ec-442f-ec21-476fc8fa2ee2"
      },
      "outputs": [
        {
          "output_type": "stream",
          "name": "stdout",
          "text": [
            "r    V\n",
            "2    16.755160819145562\n",
            "4    134.0412865531645\n",
            "6    452.38934211693015\n",
            "8    1072.330292425316\n",
            "10    2094.3951023931954\n",
            "12    3619.114736935441\n",
            "14    5747.0201609669275\n",
            "16    8578.642339402528\n",
            "18    12214.512237157114\n",
            "20    16755.160819145563\n"
          ]
        }
      ],
      "source": [
        "import math\n",
        "\n",
        "def calculate_volume(radius):\n",
        "    return (2/3) * math.pi * radius**3\n",
        "\n",
        "def main():\n",
        "    print(\"r    V\")\n",
        "    for r in range(2, 21, 2):\n",
        "        volume = calculate_volume(r)\n",
        "        print(f\"{r}    {volume}\")\n",
        "\n",
        "if __name__ == \"__main__\":\n",
        "    main()\n",
        "\n",
        "\n"
      ]
    },
    {
      "cell_type": "markdown",
      "metadata": {
        "id": "90_NR8c5XGWc"
      },
      "source": [
        "# Question 2 (20 points)\n",
        "\n",
        "(a) Write a Python program to generate a sequence of 12 random numbers falling within the range of 50 to 150.\n",
        "\n",
        "(b) Arrange the generated numbers in ascending order. Display the sorted list.\n",
        "\n",
        "(c) Extend the program to arrange the numbers in descending order as well. Present the sorted list accordingly.\n",
        "\n",
        "(d) Compute and output the average of the entire group of generated numbers.\n",
        "\n",
        "(e) Enhance the program to calculate and display the average of the first 6 numbers from both the ascending and descending sorted lists."
      ]
    },
    {
      "cell_type": "code",
      "execution_count": 2,
      "metadata": {
        "id": "5QX6bJjGWXY9",
        "colab": {
          "base_uri": "https://localhost:8080/"
        },
        "outputId": "9a11fd67-b31e-4f16-c1ef-676cea8419e9"
      },
      "outputs": [
        {
          "output_type": "stream",
          "name": "stdout",
          "text": [
            "Ascending order: [53, 79, 92, 104, 109, 121, 121, 131, 132, 136, 138, 139]\n",
            "Descending order: [139, 138, 136, 132, 131, 121, 121, 109, 104, 92, 79, 53]\n",
            "Average of the entire group: 112.91666666666667\n",
            "Average of the first 6 numbers (ascending): 93.0\n",
            "Average of the first 6 numbers (descending): 132.83333333333334\n"
          ]
        }
      ],
      "source": [
        "import random\n",
        "\n",
        "def generate_random_numbers():\n",
        "    return [random.randint(50, 150) for _ in range(12)]\n",
        "\n",
        "def ascending_sort(numbers):\n",
        "    return sorted(numbers)\n",
        "\n",
        "def descending_sort(numbers):\n",
        "    return sorted(numbers, reverse=True)\n",
        "\n",
        "def calculate_average(numbers):\n",
        "    return sum(numbers) / len(numbers)\n",
        "\n",
        "def main():\n",
        "    # (a) Generate random numbers\n",
        "    numbers = generate_random_numbers()\n",
        "\n",
        "    # (b) Arrange in ascending order and display\n",
        "    ascending_sorted = ascending_sort(numbers)\n",
        "    print(\"Ascending order:\", ascending_sorted)\n",
        "\n",
        "    # (c) Arrange in descending order and display\n",
        "    descending_sorted = descending_sort(numbers)\n",
        "    print(\"Descending order:\", descending_sorted)\n",
        "\n",
        "    # (d) Compute and output the average\n",
        "    average = calculate_average(numbers)\n",
        "    print(\"Average of the entire group:\", average)\n",
        "\n",
        "    # (e) Average of the first 6 numbers from both ascending and descending lists\n",
        "    avg_first_6_ascending = calculate_average(ascending_sorted[:6])\n",
        "    avg_first_6_descending = calculate_average(descending_sorted[:6])\n",
        "    print(\"Average of the first 6 numbers (ascending):\", avg_first_6_ascending)\n",
        "    print(\"Average of the first 6 numbers (descending):\", avg_first_6_descending)\n",
        "\n",
        "if __name__ == \"__main__\":\n",
        "    main()\n",
        "\n"
      ]
    },
    {
      "cell_type": "markdown",
      "metadata": {
        "id": "1F_PZdH9Sh49"
      },
      "source": [
        "# Question 3 (20 points).\n",
        "\n",
        "Create a Python program that encompasses various string manipulation task:\n",
        "\n",
        "(a) Prompt the user to input two sentences.\n",
        "\n",
        "(b) Transform each sentence into a list, where each element corresponds to a word in the sentence. For example, if the sentences are \"Hello, how are you doing today?\" and \"This is an example sentence for the program!\"\n",
        "\n",
        "The program should output:\n",
        "['Hello', ',', 'how', 'are', 'you', 'doing', 'today', '?', 'This', 'is', 'an', 'example', 'sentence', 'for', 'the', 'program', '!']\n",
        "\n",
        "(c) Compare the two sentences. Print out a list of words that occur in both sentences.\n",
        "\n",
        "(d) Remove any punctuation from the sentence and print the sanitized sentences. It should remove at least the following characters, but it can remove more: period(“.”), comma (“,”), semicolon (“;”), and colon (“:”).\n",
        "\n",
        "(e) Count the number of vowels in each of the sentences. Print out each vowel and the occurrences  in the each of the two sentences separately, such as:\n",
        "\n",
        "Sentence1: a:2, e:2, i:0, etc.\n",
        "Sentence2: a:1, e:2, i:2, etc.\n",
        "\n",
        "Design a well-structured Python program to execute these tasks efficiently."
      ]
    },
    {
      "cell_type": "code",
      "execution_count": 3,
      "metadata": {
        "id": "Y0oOSlsOS0cq",
        "colab": {
          "base_uri": "https://localhost:8080/"
        },
        "outputId": "864bb1a9-0088-4b76-84f2-4473797832f4"
      },
      "outputs": [
        {
          "output_type": "stream",
          "name": "stdout",
          "text": [
            "Enter the first sentence: my name is muqeet\n",
            "Enter the second sentence: i am doing my assignment\n",
            "['my', 'name', 'is', 'muqeet', 'i', 'am', 'doing', 'my', 'assignment']\n",
            "Common words: ['my']\n",
            "Sentence 1 without punctuation: my name is muqeet\n",
            "Sentence 2 without punctuation: i am doing my assignment\n",
            "Sentence1: a:1, e:3, i:1, o:0, u:1, \n",
            "Sentence2: a:2, e:1, i:3, o:1, u:0, \n"
          ]
        }
      ],
      "source": [
        "import string\n",
        "\n",
        "def input_sentences():\n",
        "    sentence1 = input(\"Enter the first sentence: \")\n",
        "    sentence2 = input(\"Enter the second sentence: \")\n",
        "    return sentence1, sentence2\n",
        "\n",
        "def sentences_to_lists(sentence1, sentence2):\n",
        "    words1 = sentence1.split()\n",
        "    words2 = sentence2.split()\n",
        "    return words1, words2\n",
        "\n",
        "def find_common_words(words1, words2):\n",
        "    common_words = set(words1) & set(words2)\n",
        "    return list(common_words)\n",
        "\n",
        "def remove_punctuation(sentence):\n",
        "    translator = str.maketrans(\"\", \"\", string.punctuation)\n",
        "    return sentence.translate(translator)\n",
        "\n",
        "def count_vowels(sentence):\n",
        "    vowels = \"aeiou\"\n",
        "    vowel_count = {vowel: sentence.lower().count(vowel) for vowel in vowels}\n",
        "    return vowel_count\n",
        "\n",
        "def print_vowel_counts(vowel_counts, sentence_name):\n",
        "    print(sentence_name + \":\", end=\" \")\n",
        "    for vowel, count in vowel_counts.items():\n",
        "        print(f\"{vowel}:{count}\", end=\", \")\n",
        "    print()\n",
        "\n",
        "def main():\n",
        "    # (a) Input two sentences\n",
        "    sentence1, sentence2 = input_sentences()\n",
        "\n",
        "    # (b) Transform sentences into lists of words\n",
        "    words1, words2 = sentences_to_lists(sentence1, sentence2)\n",
        "    print(words1 + words2)\n",
        "\n",
        "    # (c) Find common words\n",
        "    common_words = find_common_words(words1, words2)\n",
        "    print(\"Common words:\", common_words)\n",
        "\n",
        "    # (d) Remove punctuation\n",
        "    sentence1_no_punctuation = remove_punctuation(sentence1)\n",
        "    sentence2_no_punctuation = remove_punctuation(sentence2)\n",
        "    print(\"Sentence 1 without punctuation:\", sentence1_no_punctuation)\n",
        "    print(\"Sentence 2 without punctuation:\", sentence2_no_punctuation)\n",
        "\n",
        "    # (e) Count vowels\n",
        "    vowel_counts1 = count_vowels(sentence1)\n",
        "    vowel_counts2 = count_vowels(sentence2)\n",
        "    print_vowel_counts(vowel_counts1, \"Sentence1\")\n",
        "    print_vowel_counts(vowel_counts2, \"Sentence2\")\n",
        "\n",
        "if __name__ == \"__main__\":\n",
        "    main()\n",
        "\n",
        "\n"
      ]
    },
    {
      "cell_type": "markdown",
      "source": [
        "# Question 4 (20 Points)"
      ],
      "metadata": {
        "id": "OP4-5qxAtInv"
      }
    },
    {
      "cell_type": "markdown",
      "source": [
        "Design and implement a simple command-line calculator program. The program should handle both integers and floating-point numbers.\n",
        "\n",
        "(a) Write program that takes a mathematical expression as input and evaluates it. The program should support addition, subtraction, multiplication, and division.\n",
        "\n",
        "(b) Extend the calculator to handle parentheses in mathematical expressions. Implement the necessary logic to evaluate expressions with nested parentheses.\n",
        "\n",
        "(c) Enhance your calculator to include additional mathematical operations such as exponentiation, square root, and modulus.\n",
        "\n",
        "(d) Implement error handling in the calculator program. Handle cases such as division by zero and invalid input expressions. Provide meaningful error messages.\n",
        "\n",
        "(e) Implement a command to exit the calculator."
      ],
      "metadata": {
        "id": "uzN4_hDptK9U"
      }
    },
    {
      "cell_type": "code",
      "source": [
        "import math\n",
        "import re\n",
        "import sys\n",
        "\n",
        "def evaluate_expression(expression):\n",
        "    try:\n",
        "        return eval(expression)\n",
        "    except ZeroDivisionError:\n",
        "        return \"Error: Division by zero\"\n",
        "    except Exception as e:\n",
        "        return f\"Error: {e}\"\n",
        "\n",
        "def handle_parentheses(expression):\n",
        "    while '(' in expression:\n",
        "        expr_within_parentheses = re.search(r'\\(([^()]+)\\)', expression)\n",
        "        if expr_within_parentheses:\n",
        "            expr_to_replace = expr_within_parentheses.group(0)\n",
        "            result = evaluate_expression(expr_within_parentheses.group(1))\n",
        "            expression = expression.replace(expr_to_replace, str(result))\n",
        "        else:\n",
        "            return \"Error: Unmatched parentheses\"\n",
        "    return expression\n",
        "\n",
        "def calculate():\n",
        "    print(\"Welcome to the command-line calculator!\")\n",
        "    print(\"Type 'exit' to quit.\")\n",
        "\n",
        "    while True:\n",
        "        expression = input(\"Enter your expression: \")\n",
        "\n",
        "        if expression.lower() == 'exit':\n",
        "            print(\"Exiting calculator.\")\n",
        "            break\n",
        "\n",
        "        # Handle parentheses first\n",
        "        expression = handle_parentheses(expression)\n",
        "        if expression.startswith(\"Error\"):\n",
        "            print(expression)\n",
        "            continue\n",
        "\n",
        "        # Evaluate the expression\n",
        "        result = evaluate_expression(expression)\n",
        "        print(\"Result:\", result)\n",
        "\n",
        "if __name__ == \"__main__\":\n",
        "    calculate()\n"
      ],
      "metadata": {
        "id": "8nQnVxjJuYtu",
        "colab": {
          "base_uri": "https://localhost:8080/",
          "height": 460
        },
        "outputId": "5b603f66-040b-48eb-ebb0-748bb84945a4"
      },
      "execution_count": 6,
      "outputs": [
        {
          "output_type": "stream",
          "name": "stdout",
          "text": [
            "Welcome to the command-line calculator!\n",
            "Type 'exit' to quit.\n",
            "Enter your expression: x-2\n",
            "Result: Error: name 'x' is not defined\n",
            "Enter your expression: 5+4*4\n",
            "Result: 21\n"
          ]
        },
        {
          "output_type": "error",
          "ename": "KeyboardInterrupt",
          "evalue": "Interrupted by user",
          "traceback": [
            "\u001b[0;31m---------------------------------------------------------------------------\u001b[0m",
            "\u001b[0;31mKeyboardInterrupt\u001b[0m                         Traceback (most recent call last)",
            "\u001b[0;32m<ipython-input-6-4d757221c33e>\u001b[0m in \u001b[0;36m<cell line: 45>\u001b[0;34m()\u001b[0m\n\u001b[1;32m     44\u001b[0m \u001b[0;34m\u001b[0m\u001b[0m\n\u001b[1;32m     45\u001b[0m \u001b[0;32mif\u001b[0m \u001b[0m__name__\u001b[0m \u001b[0;34m==\u001b[0m \u001b[0;34m\"__main__\"\u001b[0m\u001b[0;34m:\u001b[0m\u001b[0;34m\u001b[0m\u001b[0;34m\u001b[0m\u001b[0m\n\u001b[0;32m---> 46\u001b[0;31m     \u001b[0mcalculate\u001b[0m\u001b[0;34m(\u001b[0m\u001b[0;34m)\u001b[0m\u001b[0;34m\u001b[0m\u001b[0;34m\u001b[0m\u001b[0m\n\u001b[0m",
            "\u001b[0;32m<ipython-input-6-4d757221c33e>\u001b[0m in \u001b[0;36mcalculate\u001b[0;34m()\u001b[0m\n\u001b[1;32m     27\u001b[0m \u001b[0;34m\u001b[0m\u001b[0m\n\u001b[1;32m     28\u001b[0m     \u001b[0;32mwhile\u001b[0m \u001b[0;32mTrue\u001b[0m\u001b[0;34m:\u001b[0m\u001b[0;34m\u001b[0m\u001b[0;34m\u001b[0m\u001b[0m\n\u001b[0;32m---> 29\u001b[0;31m         \u001b[0mexpression\u001b[0m \u001b[0;34m=\u001b[0m \u001b[0minput\u001b[0m\u001b[0;34m(\u001b[0m\u001b[0;34m\"Enter your expression: \"\u001b[0m\u001b[0;34m)\u001b[0m\u001b[0;34m\u001b[0m\u001b[0;34m\u001b[0m\u001b[0m\n\u001b[0m\u001b[1;32m     30\u001b[0m \u001b[0;34m\u001b[0m\u001b[0m\n\u001b[1;32m     31\u001b[0m         \u001b[0;32mif\u001b[0m \u001b[0mexpression\u001b[0m\u001b[0;34m.\u001b[0m\u001b[0mlower\u001b[0m\u001b[0;34m(\u001b[0m\u001b[0;34m)\u001b[0m \u001b[0;34m==\u001b[0m \u001b[0;34m'exit'\u001b[0m\u001b[0;34m:\u001b[0m\u001b[0;34m\u001b[0m\u001b[0;34m\u001b[0m\u001b[0m\n",
            "\u001b[0;32m/usr/local/lib/python3.10/dist-packages/ipykernel/kernelbase.py\u001b[0m in \u001b[0;36mraw_input\u001b[0;34m(self, prompt)\u001b[0m\n\u001b[1;32m    849\u001b[0m                 \u001b[0;34m\"raw_input was called, but this frontend does not support input requests.\"\u001b[0m\u001b[0;34m\u001b[0m\u001b[0;34m\u001b[0m\u001b[0m\n\u001b[1;32m    850\u001b[0m             )\n\u001b[0;32m--> 851\u001b[0;31m         return self._input_request(str(prompt),\n\u001b[0m\u001b[1;32m    852\u001b[0m             \u001b[0mself\u001b[0m\u001b[0;34m.\u001b[0m\u001b[0m_parent_ident\u001b[0m\u001b[0;34m,\u001b[0m\u001b[0;34m\u001b[0m\u001b[0;34m\u001b[0m\u001b[0m\n\u001b[1;32m    853\u001b[0m             \u001b[0mself\u001b[0m\u001b[0;34m.\u001b[0m\u001b[0m_parent_header\u001b[0m\u001b[0;34m,\u001b[0m\u001b[0;34m\u001b[0m\u001b[0;34m\u001b[0m\u001b[0m\n",
            "\u001b[0;32m/usr/local/lib/python3.10/dist-packages/ipykernel/kernelbase.py\u001b[0m in \u001b[0;36m_input_request\u001b[0;34m(self, prompt, ident, parent, password)\u001b[0m\n\u001b[1;32m    893\u001b[0m             \u001b[0;32mexcept\u001b[0m \u001b[0mKeyboardInterrupt\u001b[0m\u001b[0;34m:\u001b[0m\u001b[0;34m\u001b[0m\u001b[0;34m\u001b[0m\u001b[0m\n\u001b[1;32m    894\u001b[0m                 \u001b[0;31m# re-raise KeyboardInterrupt, to truncate traceback\u001b[0m\u001b[0;34m\u001b[0m\u001b[0;34m\u001b[0m\u001b[0m\n\u001b[0;32m--> 895\u001b[0;31m                 \u001b[0;32mraise\u001b[0m \u001b[0mKeyboardInterrupt\u001b[0m\u001b[0;34m(\u001b[0m\u001b[0;34m\"Interrupted by user\"\u001b[0m\u001b[0;34m)\u001b[0m \u001b[0;32mfrom\u001b[0m \u001b[0;32mNone\u001b[0m\u001b[0;34m\u001b[0m\u001b[0;34m\u001b[0m\u001b[0m\n\u001b[0m\u001b[1;32m    896\u001b[0m             \u001b[0;32mexcept\u001b[0m \u001b[0mException\u001b[0m \u001b[0;32mas\u001b[0m \u001b[0me\u001b[0m\u001b[0;34m:\u001b[0m\u001b[0;34m\u001b[0m\u001b[0;34m\u001b[0m\u001b[0m\n\u001b[1;32m    897\u001b[0m                 \u001b[0mself\u001b[0m\u001b[0;34m.\u001b[0m\u001b[0mlog\u001b[0m\u001b[0;34m.\u001b[0m\u001b[0mwarning\u001b[0m\u001b[0;34m(\u001b[0m\u001b[0;34m\"Invalid Message:\"\u001b[0m\u001b[0;34m,\u001b[0m \u001b[0mexc_info\u001b[0m\u001b[0;34m=\u001b[0m\u001b[0;32mTrue\u001b[0m\u001b[0;34m)\u001b[0m\u001b[0;34m\u001b[0m\u001b[0;34m\u001b[0m\u001b[0m\n",
            "\u001b[0;31mKeyboardInterrupt\u001b[0m: Interrupted by user"
          ]
        }
      ]
    },
    {
      "cell_type": "markdown",
      "metadata": {
        "id": "z3tBE7E-Xn5X"
      },
      "source": [
        "# Question 5 (30 points).\n",
        "\n",
        "In the field of Data Science, data is often formatted as a comma-delimited (CSV) file, where each line in a file corresponds to a field's value. Refer to Chapter 9 (p. 106) for more information on comma-delimited files.\n",
        "\n",
        "To answer this question, you will need to download the file [Assignment1_denton_housing.csv](https://raw.githubusercontent.com/unt-iialab/info5731-spring2022/main/assignments/Assignment1_denton_housing.csv) included with this assignment. The file contains statistics about housing in the city of Denton from 2008 to 2014. Write a program to implement the following questions.\n",
        "\n",
        "(a) (5 pts) Calculate the difference in the number of Occupied Housing Units from year to year and print it. The difference must be calculated for the consecutive years such as 2008-2009, 2009-2010 etc. Finally, print the values in the ascending order.\n",
        "\n",
        "(b) (5 pts) For all the years, calculate the percentage of housing units which are vacant an occupied. Print the results in the following format:\n",
        "\n",
        "Year Vacant Housing Units Occupied Housing Units\n",
        "\n",
        "    2008  30%   70%                          \n",
        "\t2009 ----- -----\n",
        "\t2010 ----- -----\n",
        "    2011 ----- -----\n",
        "\t2012 ----- -----\n",
        "    2013 ----- -----\n",
        "\t2014 ----- -----\n",
        "  \n",
        "  \n",
        "\n",
        "(c) (10 pts) Calculate and print the valued and years in which the highest number of housing units were vacant and occupied. Print the results in the following format:  \n",
        "\n",
        "                              Year\tValue\n",
        "\tVacant Housing Units\t  -----   -----\n",
        "\tOccupied Housing Units\t-----   -----\n",
        "\n",
        "(d) (10 pts) Calculate the harmonic mean of the total housing units and print it out. You can find the information about harmonic mean here: https://ncalculators.com/statistics/harmonic-mean-calculator.htm"
      ]
    },
    {
      "cell_type": "code",
      "execution_count": 16,
      "metadata": {
        "id": "lqGYuHBhcsRH",
        "colab": {
          "base_uri": "https://localhost:8080/"
        },
        "outputId": "49fdba84-24aa-4680-8efc-dc6e805ebc77"
      },
      "outputs": [
        {
          "output_type": "stream",
          "name": "stdout",
          "text": [
            "(a) Differences in Occupied Housing Units from year to year:\n",
            "2008-2009: 1\n",
            "2009-2010: 11\n",
            "2010-2011: 41\n",
            "2011-2012: 21\n",
            "2012-2013: 45\n",
            "2013-2014: 18\n",
            "\n",
            "(b) Percentage of Vacant and Occupied Housing Units:\n",
            "Year  Vacant Housing Units  Occupied Housing Units\n",
            "(c) No valid vacant housing units data found.\n",
            "Occupied Housing Units 2014   905\n",
            "(d) No valid total housing units data found.\n"
          ]
        }
      ],
      "source": [
        "import csv\n",
        "from collections import defaultdict\n",
        "\n",
        "# Function to calculate the harmonic mean\n",
        "def harmonic_mean(numbers):\n",
        "    return len(numbers) / sum(1 / num for num in numbers)\n",
        "\n",
        "# (a) Calculate the difference in the number of Occupied Housing Units from year to year\n",
        "def calculate_occupied_housing_units_difference(data):\n",
        "    differences = []\n",
        "    sorted_years = sorted(data.keys())\n",
        "    for i in range(len(sorted_years) - 1):\n",
        "        year1 = sorted_years[i]\n",
        "        year2 = sorted_years[i + 1]\n",
        "        occupied1 = data[year1][1]\n",
        "        occupied2 = data[year2][1]\n",
        "        difference = int(occupied2) - int(occupied1)\n",
        "        differences.append((year1 + '-' + year2, difference))\n",
        "    return differences\n",
        "\n",
        "import csv\n",
        "from collections import defaultdict\n",
        "\n",
        "# Function to calculate the harmonic mean\n",
        "def harmonic_mean(numbers):\n",
        "    return len(numbers) / sum(1 / num for num in numbers)\n",
        "\n",
        "# (b) Calculate percentages of vacant and occupied housing units for each year\n",
        "def calculate_percentage(data):\n",
        "    percentages = []\n",
        "    for year, (vacant, occupied) in data.items():\n",
        "        if year == 'Year':\n",
        "            continue  # Skip header row\n",
        "        if not (vacant.isdigit() and occupied.isdigit()):\n",
        "            continue  # Skip rows with non-numeric values\n",
        "        total = int(vacant) + int(occupied)\n",
        "        vacant_percent = (int(vacant) / total) * 100\n",
        "        occupied_percent = (int(occupied) / total) * 100\n",
        "        percentages.append((year, f'{vacant_percent:.2f}%', f'{occupied_percent:.2f}%'))\n",
        "    return percentages\n",
        "\n",
        "# (c) Find the year with the highest number of vacant and occupied housing units\n",
        "def find_highest_units(data):\n",
        "    vacant_max = max((year, int(vacant)) for year, (vacant, _) in data.items() if vacant.isdigit())\n",
        "    occupied_max = max((year, int(occupied)) for year, (_, occupied) in data.items() if occupied.isdigit())\n",
        "    return vacant_max, occupied_max\n",
        "\n",
        "# Read the CSV file and store data\n",
        "data = defaultdict(tuple)\n",
        "with open('/content/Assignment1_denton_housing.csv', newline='') as csvfile:\n",
        "    reader = csv.reader(csvfile)\n",
        "    next(reader)  # Skip header\n",
        "    for row in reader:\n",
        "        data[row[0]] = (row[1], row[2])\n",
        "\n",
        "# (a) Calculate differences in occupied housing units\n",
        "occupied_differences = calculate_occupied_housing_units_difference(data)\n",
        "print(\"(a) Differences in Occupied Housing Units from year to year:\")\n",
        "for diff in occupied_differences:\n",
        "    print(f\"{diff[0]}: {diff[1]}\")\n",
        "\n",
        "# (b) Calculate percentages of vacant and occupied housing units for each year\n",
        "percentages = calculate_percentage(data)\n",
        "print(\"\\n(b) Percentage of Vacant and Occupied Housing Units:\")\n",
        "print(\"Year  Vacant Housing Units  Occupied Housing Units\")\n",
        "for year, vacant_percent, occupied_percent in percentages:\n",
        "    print(f\"{year}   {vacant_percent}   {occupied_percent}\")\n",
        "\n",
        "# (c) Find the year with the highest number of vacant and occupied housing units\n",
        "vacant_values = [(year, int(vacant)) for year, (vacant, _) in data.items() if vacant.isdigit()]\n",
        "occupied_values = [(year, int(occupied)) for year, (_, occupied) in data.items() if occupied.isdigit()]\n",
        "\n",
        "if vacant_values:\n",
        "    vacant_max = max(vacant_values, key=lambda x: x[1])\n",
        "    print(f\" (c) Vacant Housing Units   {vacant_max[0]}   {vacant_max[1]}\")\n",
        "else:\n",
        "    print(\"(c) No valid vacant housing units data found.\")\n",
        "\n",
        "if occupied_values:\n",
        "    occupied_max = max(occupied_values, key=lambda x: x[1])\n",
        "    print(f\"Occupied Housing Units {occupied_max[0]}   {occupied_max[1]}\")\n",
        "else:\n",
        "    print(\" (c) No valid occupied housing units data found.\")\n",
        "\n",
        "\n",
        "\n",
        "# (d) Calculate the harmonic mean of total housing units\n",
        "total_housing_units = [int(vacant) + int(occupied) for vacant, occupied in data.values() if vacant.isdigit() and occupied.isdigit()]\n",
        "\n",
        "if total_housing_units:\n",
        "    harmonic_mean_value = harmonic_mean(total_housing_units)\n",
        "    print(\"\\n(d) Harmonic mean of Total Housing Units:\", harmonic_mean_value)\n",
        "else:\n",
        "    print(\"(d) No valid total housing units data found.\")\n",
        "\n",
        "\n"
      ]
    },
    {
      "cell_type": "markdown",
      "source": [
        "# Mandatory Question\n",
        "\n",
        "Provide your thoughts on the assignment. What did you find challenging, and what aspects did you enjoy? Your opinion on the provided time to complete the assignment. Share any suggestions for improvement. Your feedback will be valuable for enhancing the learning experience."
      ],
      "metadata": {
        "id": "q8BFCvWp32cf"
      }
    },
    {
      "cell_type": "markdown",
      "source": [
        "The assignment on Python basics encompassing various topics such as dates, arrays, functions, modules, error handling, and object-oriented programming offered a comprehensive exploration of fundamental Python concepts. While aspects like data parsing and error handling presented challenges, they also served as valuable learning opportunities, enhancing problem-solving skills and understanding of Python functionalities. The assignment's time frame seemed adequate for individuals with a basic grasp of Python, allowing for thorough exploration of the topics without feeling rushed. However, breaking down the assignment into smaller, more modular tasks with clearer instructions could improve comprehension and reduce potential overwhelm for learners, facilitating a smoother learning experience. Additionally, incorporating interactive elements like in-class exercises or discussion forums could foster greater engagement and facilitate peer learning, further enriching the learning journey."
      ],
      "metadata": {
        "id": "SqXUYCEHq9xl"
      }
    }
  ],
  "metadata": {
    "colab": {
      "provenance": []
    },
    "kernelspec": {
      "display_name": "Python 3 (ipykernel)",
      "language": "python",
      "name": "python3"
    },
    "language_info": {
      "codemirror_mode": {
        "name": "ipython",
        "version": 3
      },
      "file_extension": ".py",
      "mimetype": "text/x-python",
      "name": "python",
      "nbconvert_exporter": "python",
      "pygments_lexer": "ipython3",
      "version": "3.9.12"
    }
  },
  "nbformat": 4,
  "nbformat_minor": 0
}